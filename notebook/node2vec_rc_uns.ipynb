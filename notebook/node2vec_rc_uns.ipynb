{
 "cells": [
  {
   "cell_type": "code",
   "execution_count": 47,
   "metadata": {
    "collapsed": true
   },
   "outputs": [
    {
     "name": "stdout",
     "output_type": "stream",
     "text": [
      "Data(edge_index=[2, 6243], edge_attr=[6243], t_start=0, num_nodes=6416)\n",
      "tensor(26894)\n",
      "torch.Size([2, 5619])\n",
      "Epoch: 001, Loss: 4.2250,AUC: 0.7878,AP: 0.7406\n",
      "Epoch: 002, Loss: 2.1525,AUC: 0.8903,AP: 0.8925\n",
      "Epoch: 003, Loss: 1.2365,AUC: 0.9344,AP: 0.9536\n",
      "Epoch: 004, Loss: 0.8903,AUC: 0.9448,AP: 0.9664\n",
      "Epoch: 005, Loss: 0.7769,AUC: 0.9437,AP: 0.9674\n",
      "Epoch: 006, Loss: 0.7438,AUC: 0.9430,AP: 0.9671\n",
      "Epoch: 007, Loss: 0.7353,AUC: 0.9415,AP: 0.9665\n",
      "Epoch: 008, Loss: 0.7334,AUC: 0.9443,AP: 0.9677\n",
      "Epoch: 009, Loss: 0.7332,AUC: 0.9433,AP: 0.9673\n",
      "Epoch: 010, Loss: 0.7330,AUC: 0.9433,AP: 0.9672\n"
     ]
    }
   ],
   "source": [
    "import torch\n",
    "import torch_geometric as pyg\n",
    "from sklearn.metrics import roc_auc_score, average_precision_score\n",
    "from torch_geometric.nn import Node2Vec\n",
    "from torch_geometric.transforms import RandomLinkSplit\n",
    "from einops import rearrange\n",
    "\n",
    "pyg.seed_everything(3407)\n",
    "device = 'cuda:1' if torch.cuda.is_available() else 'cpu'\n",
    "\n",
    "data = torch.load('/home/chenjunfen/workspace/XZH/graphemb/dydata/rc_snapshots/f1.pt')\n",
    "data = data.to(device)\n",
    "data['edge_index'] = torch.tensor(data['edge_index'])\n",
    "data['edge_attr'] = torch.tensor(data['edge_attr'])\n",
    "data['t_start'] = torch.tensor(data['t_start'])\n",
    "data['num_nodes'] = torch.tensor(data['num_nodes'])\n",
    "print(data)\n",
    "transform = RandomLinkSplit(num_val=0.0,\n",
    "                            num_test=0.1,\n",
    "                            is_undirected=False)\n",
    "train_data, val_data, test_data = transform(data)\n",
    "\n",
    "model = Node2Vec(\n",
    "    edge_index=train_data.edge_index,\n",
    "    embedding_dim=128,\n",
    "    walk_length=20,\n",
    "    context_size=10,\n",
    "    walks_per_node=10,\n",
    "    num_negative_samples=1,\n",
    "    p=1.0,  # p=q=1时，退化为DeepWalk\n",
    "    q=0.5,\n",
    "    sparse=True,  # 该数据集为稀疏数据集\n",
    ").to(device)\n",
    "loader = model.loader(batch_size=128, shuffle=True, num_workers=8)\n",
    "optimizer = torch.optim.SparseAdam(list(model.parameters()), lr=0.01)\n",
    "print(torch.max(train_data.edge_index[0]))\n",
    "print(train_data.edge_index.shape)\n",
    "\n",
    "\n",
    "def train():\n",
    "    model.train()\n",
    "    total_loss = 0\n",
    "    for pos_rw, neg_rw in loader:\n",
    "        optimizer.zero_grad()\n",
    "        loss = model.loss(pos_rw.to(device), neg_rw.to(device))\n",
    "        loss.backward()\n",
    "        optimizer.step()\n",
    "        total_loss += loss.item()\n",
    "    return total_loss / len(loader)\n",
    "\n",
    "\n",
    "@torch.no_grad()\n",
    "def test():\n",
    "    model.eval()\n",
    "    data = test_data\n",
    "    z = model()  # 输出潜在空间的嵌入向量\n",
    "    out = (z[data.edge_label_index[0]] * z[data.edge_label_index[1]]).sum(dim=-1)\n",
    "    out = out.view(-1).sigmoid()  # 重建edge_label与输入的边标签进行对比\n",
    "    AUC = roc_auc_score(data.edge_label.cpu().numpy(), out.cpu().numpy())\n",
    "    AP = average_precision_score(data.edge_label.cpu().numpy(), out.cpu().numpy())\n",
    "    return AUC, AP\n",
    "\n",
    "\n",
    "for epoch in range(1, 11):\n",
    "    loss = train()\n",
    "    AUC, AP = test()\n",
    "    print(f'Epoch: {epoch:03d}, Loss: {loss:.4f},AUC: {AUC:.4f},AP: {AP:.4f}')"
   ]
  },
  {
   "cell_type": "code",
   "execution_count": 48,
   "outputs": [
    {
     "data": {
      "text/plain": "torch.Size([26895, 128])"
     },
     "execution_count": 48,
     "metadata": {},
     "output_type": "execute_result"
    }
   ],
   "source": [
    "z1 = model()\n",
    "z1.shape"
   ],
   "metadata": {
    "collapsed": false
   }
  },
  {
   "cell_type": "code",
   "execution_count": 49,
   "outputs": [
    {
     "data": {
      "text/plain": "torch.Size([27045, 128])"
     },
     "execution_count": 49,
     "metadata": {},
     "output_type": "execute_result"
    }
   ],
   "source": [
    "z=z1\n",
    "q = 27045-z.shape[0]\n",
    "zero = torch.zeros((q,128)).to(device)\n",
    "z = torch.cat([z,zero],0)\n",
    "z1=z\n",
    "z1.shape"
   ],
   "metadata": {
    "collapsed": false
   }
  },
  {
   "cell_type": "code",
   "execution_count": 50,
   "outputs": [
    {
     "name": "stdout",
     "output_type": "stream",
     "text": [
      "Data(edge_index=[2, 7030], edge_attr=[7030], t_start=6243, num_nodes=6416)\n",
      "tensor(26903)\n",
      "torch.Size([2, 6327])\n",
      "Epoch: 001, Loss: 4.2303,AUC: 0.7941,AP: 0.7274\n",
      "Epoch: 002, Loss: 2.1544,AUC: 0.8972,AP: 0.8914\n",
      "Epoch: 003, Loss: 1.2373,AUC: 0.9450,AP: 0.9608\n",
      "Epoch: 004, Loss: 0.8904,AUC: 0.9533,AP: 0.9712\n",
      "Epoch: 005, Loss: 0.7772,AUC: 0.9541,AP: 0.9726\n",
      "Epoch: 006, Loss: 0.7444,AUC: 0.9543,AP: 0.9724\n",
      "Epoch: 007, Loss: 0.7359,AUC: 0.9550,AP: 0.9729\n",
      "Epoch: 008, Loss: 0.7340,AUC: 0.9531,AP: 0.9725\n",
      "Epoch: 009, Loss: 0.7336,AUC: 0.9529,AP: 0.9721\n",
      "Epoch: 010, Loss: 0.7334,AUC: 0.9530,AP: 0.9722\n"
     ]
    }
   ],
   "source": [
    "import torch\n",
    "import torch_geometric as pyg\n",
    "from sklearn.metrics import roc_auc_score, average_precision_score\n",
    "from torch_geometric.nn import Node2Vec\n",
    "from torch_geometric.transforms import RandomLinkSplit\n",
    "from einops import rearrange\n",
    "\n",
    "pyg.seed_everything(3407)\n",
    "device = 'cuda:1' if torch.cuda.is_available() else 'cpu'\n",
    "\n",
    "data = torch.load('/home/chenjunfen/workspace/XZH/graphemb/dydata/rc_snapshots/f2.pt')\n",
    "data = data.to(device)\n",
    "data['edge_index'] = torch.tensor(data['edge_index'])\n",
    "data['edge_attr'] = torch.tensor(data['edge_attr'])\n",
    "data['t_start'] = torch.tensor(data['t_start'])\n",
    "data['num_nodes'] = torch.tensor(data['num_nodes'])\n",
    "print(data)\n",
    "transform = RandomLinkSplit(num_val=0.0,\n",
    "                            num_test=0.1,\n",
    "                            is_undirected=False)\n",
    "train_data, val_data, test_data = transform(data)\n",
    "\n",
    "model = Node2Vec(\n",
    "    edge_index=train_data.edge_index,\n",
    "    embedding_dim=128,\n",
    "    walk_length=20,\n",
    "    context_size=10,\n",
    "    walks_per_node=10,\n",
    "    num_negative_samples=1,\n",
    "    p=1.0,  # p=q=1时，退化为DeepWalk\n",
    "    q=0.1,\n",
    "    sparse=True,  # 该数据集为稀疏数据集\n",
    ").to(device)\n",
    "loader = model.loader(batch_size=128, shuffle=True, num_workers=4)\n",
    "optimizer = torch.optim.SparseAdam(list(model.parameters()), lr=0.01)\n",
    "print(torch.max(train_data.edge_index[0]))\n",
    "print(train_data.edge_index.shape)\n",
    "\n",
    "\n",
    "def train():\n",
    "    model.train()\n",
    "    total_loss = 0\n",
    "    for pos_rw, neg_rw in loader:\n",
    "        optimizer.zero_grad()\n",
    "        loss = model.loss(pos_rw.to(device), neg_rw.to(device))\n",
    "        loss.backward()\n",
    "        optimizer.step()\n",
    "        total_loss += loss.item()\n",
    "    return total_loss / len(loader)\n",
    "\n",
    "\n",
    "@torch.no_grad()\n",
    "def test():\n",
    "    model.eval()\n",
    "    data = test_data\n",
    "    z = model()  # 输出潜在空间的嵌入向量\n",
    "    out = (z[data.edge_label_index[0]] * z[data.edge_label_index[1]]).sum(dim=-1)\n",
    "    out = out.view(-1).sigmoid()  # 重建edge_label与输入的边标签进行对比\n",
    "    AUC = roc_auc_score(data.edge_label.cpu().numpy(), out.cpu().numpy())\n",
    "    AP = average_precision_score(data.edge_label.cpu().numpy(), out.cpu().numpy())\n",
    "    return AUC, AP\n",
    "\n",
    "\n",
    "for epoch in range(1, 11):\n",
    "    loss = train()\n",
    "    AUC, AP = test()\n",
    "    print(f'Epoch: {epoch:03d}, Loss: {loss:.4f},AUC: {AUC:.4f},AP: {AP:.4f}')"
   ],
   "metadata": {
    "collapsed": false
   }
  },
  {
   "cell_type": "code",
   "execution_count": 51,
   "outputs": [
    {
     "data": {
      "text/plain": "torch.Size([26904, 128])"
     },
     "execution_count": 51,
     "metadata": {},
     "output_type": "execute_result"
    }
   ],
   "source": [
    "z2 = model()\n",
    "z2.shape"
   ],
   "metadata": {
    "collapsed": false
   }
  },
  {
   "cell_type": "code",
   "execution_count": 52,
   "outputs": [
    {
     "data": {
      "text/plain": "torch.Size([27045, 128])"
     },
     "execution_count": 52,
     "metadata": {},
     "output_type": "execute_result"
    }
   ],
   "source": [
    "z=z2\n",
    "q = 27045-z.shape[0]\n",
    "zero = torch.zeros((q,128)).to(device)\n",
    "z = torch.cat([z,zero],0)\n",
    "z2=z\n",
    "z2.shape"
   ],
   "metadata": {
    "collapsed": false
   }
  },
  {
   "cell_type": "code",
   "execution_count": 53,
   "outputs": [
    {
     "name": "stdout",
     "output_type": "stream",
     "text": [
      "Data(edge_index=[2, 9081], edge_attr=[9081], t_start=13273, num_nodes=6416)\n",
      "tensor(26976)\n",
      "torch.Size([2, 8173])\n",
      "Epoch: 001, Loss: 4.2391,AUC: 0.7636,AP: 0.7158\n",
      "Epoch: 002, Loss: 2.1601,AUC: 0.8678,AP: 0.8716\n",
      "Epoch: 003, Loss: 1.2388,AUC: 0.9202,AP: 0.9473\n",
      "Epoch: 004, Loss: 0.8913,AUC: 0.9312,AP: 0.9602\n",
      "Epoch: 005, Loss: 0.7782,AUC: 0.9320,AP: 0.9622\n",
      "Epoch: 006, Loss: 0.7454,AUC: 0.9328,AP: 0.9629\n",
      "Epoch: 007, Loss: 0.7371,AUC: 0.9328,AP: 0.9627\n",
      "Epoch: 008, Loss: 0.7350,AUC: 0.9338,AP: 0.9632\n",
      "Epoch: 009, Loss: 0.7341,AUC: 0.9369,AP: 0.9648\n",
      "Epoch: 010, Loss: 0.7337,AUC: 0.9372,AP: 0.9646\n"
     ]
    }
   ],
   "source": [
    "import torch\n",
    "import torch_geometric as pyg\n",
    "from sklearn.metrics import roc_auc_score, average_precision_score\n",
    "from torch_geometric.nn import Node2Vec\n",
    "from torch_geometric.transforms import RandomLinkSplit\n",
    "from einops import rearrange\n",
    "\n",
    "pyg.seed_everything(3407)\n",
    "device = 'cuda:1' if torch.cuda.is_available() else 'cpu'\n",
    "\n",
    "data = torch.load('/home/chenjunfen/workspace/XZH/graphemb/dydata/rc_snapshots/f3.pt')\n",
    "data = data.to(device)\n",
    "data['edge_index'] = torch.tensor(data['edge_index'])\n",
    "data['edge_attr'] = torch.tensor(data['edge_attr'])\n",
    "data['t_start'] = torch.tensor(data['t_start'])\n",
    "data['num_nodes'] = torch.tensor(data['num_nodes'])\n",
    "print(data)\n",
    "transform = RandomLinkSplit(num_val=0.0,\n",
    "                            num_test=0.1,\n",
    "                            is_undirected=False)\n",
    "train_data, val_data, test_data = transform(data)\n",
    "\n",
    "model = Node2Vec(\n",
    "    edge_index=train_data.edge_index,\n",
    "    embedding_dim=128,\n",
    "    walk_length=20,\n",
    "    context_size=10,\n",
    "    walks_per_node=10,\n",
    "    num_negative_samples=1,\n",
    "    p=1.0,  # p=q=1时，退化为DeepWalk\n",
    "    q=0.1,\n",
    "    sparse=True,  # 该数据集为稀疏数据集\n",
    ").to(device)\n",
    "loader = model.loader(batch_size=128, shuffle=True, num_workers=4)\n",
    "optimizer = torch.optim.SparseAdam(list(model.parameters()), lr=0.01)\n",
    "print(torch.max(train_data.edge_index[0]))\n",
    "print(train_data.edge_index.shape)\n",
    "\n",
    "\n",
    "def train():\n",
    "    model.train()\n",
    "    total_loss = 0\n",
    "    for pos_rw, neg_rw in loader:\n",
    "        optimizer.zero_grad()\n",
    "        loss = model.loss(pos_rw.to(device), neg_rw.to(device))\n",
    "        loss.backward()\n",
    "        optimizer.step()\n",
    "        total_loss += loss.item()\n",
    "    return total_loss / len(loader)\n",
    "\n",
    "\n",
    "@torch.no_grad()\n",
    "def test():\n",
    "    model.eval()\n",
    "    data = test_data\n",
    "    z = model()  # 输出潜在空间的嵌入向量\n",
    "    out = (z[data.edge_label_index[0]] * z[data.edge_label_index[1]]).sum(dim=-1)\n",
    "    out = out.view(-1).sigmoid()  # 重建edge_label与输入的边标签进行对比\n",
    "    AUC = roc_auc_score(data.edge_label.cpu().numpy(), out.cpu().numpy())\n",
    "    AP = average_precision_score(data.edge_label.cpu().numpy(), out.cpu().numpy())\n",
    "    return AUC, AP\n",
    "\n",
    "\n",
    "for epoch in range(1, 11):\n",
    "    loss = train()\n",
    "    AUC, AP = test()\n",
    "    print(f'Epoch: {epoch:03d}, Loss: {loss:.4f},AUC: {AUC:.4f},AP: {AP:.4f}')"
   ],
   "metadata": {
    "collapsed": false
   }
  },
  {
   "cell_type": "code",
   "execution_count": 54,
   "outputs": [
    {
     "data": {
      "text/plain": "torch.Size([26986, 128])"
     },
     "execution_count": 54,
     "metadata": {},
     "output_type": "execute_result"
    }
   ],
   "source": [
    "z3 = model()\n",
    "z3.shape"
   ],
   "metadata": {
    "collapsed": false
   }
  },
  {
   "cell_type": "code",
   "execution_count": 55,
   "outputs": [
    {
     "data": {
      "text/plain": "torch.Size([27045, 128])"
     },
     "execution_count": 55,
     "metadata": {},
     "output_type": "execute_result"
    }
   ],
   "source": [
    "z=z3\n",
    "q = 27045-z.shape[0]\n",
    "zero = torch.zeros((q,128)).to(device)\n",
    "z = torch.cat([z,zero],0)\n",
    "z3=z\n",
    "z3.shape"
   ],
   "metadata": {
    "collapsed": false
   }
  },
  {
   "cell_type": "code",
   "execution_count": 56,
   "outputs": [
    {
     "name": "stdout",
     "output_type": "stream",
     "text": [
      "Data(edge_index=[2, 7642], edge_attr=[7642], t_start=22354, num_nodes=6416)\n",
      "tensor(26956)\n",
      "torch.Size([2, 6878])\n",
      "Epoch: 001, Loss: 4.2371,AUC: 0.7578,AP: 0.6934\n",
      "Epoch: 002, Loss: 2.1580,AUC: 0.8581,AP: 0.8565\n",
      "Epoch: 003, Loss: 1.2373,AUC: 0.9113,AP: 0.9387\n",
      "Epoch: 004, Loss: 0.8899,AUC: 0.9235,AP: 0.9542\n",
      "Epoch: 005, Loss: 0.7772,AUC: 0.9260,AP: 0.9574\n",
      "Epoch: 006, Loss: 0.7446,AUC: 0.9277,AP: 0.9582\n",
      "Epoch: 007, Loss: 0.7363,AUC: 0.9252,AP: 0.9572\n",
      "Epoch: 008, Loss: 0.7345,AUC: 0.9249,AP: 0.9565\n",
      "Epoch: 009, Loss: 0.7338,AUC: 0.9272,AP: 0.9578\n",
      "Epoch: 010, Loss: 0.7336,AUC: 0.9283,AP: 0.9581\n"
     ]
    }
   ],
   "source": [
    "import torch\n",
    "import torch_geometric as pyg\n",
    "from sklearn.metrics import roc_auc_score, average_precision_score\n",
    "from torch_geometric.nn import Node2Vec\n",
    "from torch_geometric.transforms import RandomLinkSplit\n",
    "from einops import rearrange\n",
    "\n",
    "pyg.seed_everything(3407)\n",
    "device = 'cuda:1' if torch.cuda.is_available() else 'cpu'\n",
    "\n",
    "data = torch.load('/home/chenjunfen/workspace/XZH/graphemb/dydata/rc_snapshots/f4.pt')\n",
    "data = data.to(device)\n",
    "data['edge_index'] = torch.tensor(data['edge_index'])\n",
    "data['edge_attr'] = torch.tensor(data['edge_attr'])\n",
    "data['t_start'] = torch.tensor(data['t_start'])\n",
    "data['num_nodes'] = torch.tensor(data['num_nodes'])\n",
    "print(data)\n",
    "transform = RandomLinkSplit(num_val=0.0,\n",
    "                            num_test=0.1,\n",
    "                            is_undirected=False)\n",
    "train_data, val_data, test_data = transform(data)\n",
    "\n",
    "model = Node2Vec(\n",
    "    edge_index=train_data.edge_index,\n",
    "    embedding_dim=128,\n",
    "    walk_length=20,\n",
    "    context_size=10,\n",
    "    walks_per_node=10,\n",
    "    num_negative_samples=1,\n",
    "    p=1.0,  # p=q=1时，退化为DeepWalk\n",
    "    q=0.1,\n",
    "    sparse=True,  # 该数据集为稀疏数据集\n",
    ").to(device)\n",
    "loader = model.loader(batch_size=128, shuffle=True, num_workers=4)\n",
    "optimizer = torch.optim.SparseAdam(list(model.parameters()), lr=0.01)\n",
    "print(torch.max(train_data.edge_index[0]))\n",
    "print(train_data.edge_index.shape)\n",
    "\n",
    "\n",
    "def train():\n",
    "    model.train()\n",
    "    total_loss = 0\n",
    "    for pos_rw, neg_rw in loader:\n",
    "        optimizer.zero_grad()\n",
    "        loss = model.loss(pos_rw.to(device), neg_rw.to(device))\n",
    "        loss.backward()\n",
    "        optimizer.step()\n",
    "        total_loss += loss.item()\n",
    "    return total_loss / len(loader)\n",
    "\n",
    "\n",
    "@torch.no_grad()\n",
    "def test():\n",
    "    model.eval()\n",
    "    data = test_data\n",
    "    z = model()  # 输出潜在空间的嵌入向量\n",
    "    out = (z[data.edge_label_index[0]] * z[data.edge_label_index[1]]).sum(dim=-1)\n",
    "    out = out.view(-1).sigmoid()  # 重建edge_label与输入的边标签进行对比\n",
    "    AUC = roc_auc_score(data.edge_label.cpu().numpy(), out.cpu().numpy())\n",
    "    AP = average_precision_score(data.edge_label.cpu().numpy(), out.cpu().numpy())\n",
    "    return AUC, AP\n",
    "\n",
    "\n",
    "for epoch in range(1, 11):\n",
    "    loss = train()\n",
    "    AUC, AP = test()\n",
    "    print(f'Epoch: {epoch:03d}, Loss: {loss:.4f},AUC: {AUC:.4f},AP: {AP:.4f}')"
   ],
   "metadata": {
    "collapsed": false
   }
  },
  {
   "cell_type": "code",
   "execution_count": 57,
   "outputs": [
    {
     "data": {
      "text/plain": "torch.Size([26958, 128])"
     },
     "execution_count": 57,
     "metadata": {},
     "output_type": "execute_result"
    }
   ],
   "source": [
    "z4 = model()\n",
    "z4.shape"
   ],
   "metadata": {
    "collapsed": false
   }
  },
  {
   "cell_type": "code",
   "execution_count": 58,
   "outputs": [
    {
     "data": {
      "text/plain": "torch.Size([27045, 128])"
     },
     "execution_count": 58,
     "metadata": {},
     "output_type": "execute_result"
    }
   ],
   "source": [
    "z=z4\n",
    "q = 27045-z.shape[0]\n",
    "zero = torch.zeros((q,128)).to(device)\n",
    "z = torch.cat([z,zero],0)\n",
    "z4=z\n",
    "z4.shape"
   ],
   "metadata": {
    "collapsed": false
   }
  },
  {
   "cell_type": "code",
   "execution_count": 61,
   "outputs": [
    {
     "name": "stdout",
     "output_type": "stream",
     "text": [
      "Data(edge_index=[2, 7802], edge_attr=[7802], t_start=29996, num_nodes=6416)\n",
      "tensor(27005)\n",
      "torch.Size([2, 7022])\n",
      "Epoch: 001, Loss: 4.2330,AUC: 0.7564,AP: 0.6929\n",
      "Epoch: 002, Loss: 2.1557,AUC: 0.8650,AP: 0.8639\n",
      "Epoch: 003, Loss: 1.2403,AUC: 0.9155,AP: 0.9403\n",
      "Epoch: 004, Loss: 0.8936,AUC: 0.9307,AP: 0.9592\n",
      "Epoch: 005, Loss: 0.7811,AUC: 0.9332,AP: 0.9625\n",
      "Epoch: 006, Loss: 0.7480,AUC: 0.9320,AP: 0.9623\n",
      "Epoch: 007, Loss: 0.7395,AUC: 0.9287,AP: 0.9603\n",
      "Epoch: 008, Loss: 0.7373,AUC: 0.9324,AP: 0.9616\n",
      "Epoch: 009, Loss: 0.7365,AUC: 0.9369,AP: 0.9637\n",
      "Epoch: 010, Loss: 0.7357,AUC: 0.9362,AP: 0.9632\n"
     ]
    }
   ],
   "source": [
    "import torch\n",
    "import torch_geometric as pyg\n",
    "from sklearn.metrics import roc_auc_score, average_precision_score\n",
    "from torch_geometric.nn import Node2Vec\n",
    "from torch_geometric.transforms import RandomLinkSplit\n",
    "from einops import rearrange\n",
    "\n",
    "pyg.seed_everything(3407)\n",
    "device = 'cuda:1' if torch.cuda.is_available() else 'cpu'\n",
    "\n",
    "data = torch.load('/home/chenjunfen/workspace/XZH/graphemb/dydata/rc_snapshots/f5.pt')\n",
    "data = data.to(device)\n",
    "data['edge_index'] = torch.tensor(data['edge_index'])\n",
    "data['edge_attr'] = torch.tensor(data['edge_attr'])\n",
    "data['t_start'] = torch.tensor(data['t_start'])\n",
    "data['num_nodes'] = torch.tensor(data['num_nodes'])\n",
    "print(data)\n",
    "transform = RandomLinkSplit(num_val=0.0,\n",
    "                            num_test=0.1,\n",
    "                            is_undirected=False)\n",
    "train_data, val_data, test_data = transform(data)\n",
    "\n",
    "model = Node2Vec(\n",
    "    edge_index=train_data.edge_index,\n",
    "    embedding_dim=128,\n",
    "    walk_length=20,\n",
    "    context_size=10,\n",
    "    walks_per_node=10,\n",
    "    num_negative_samples=1,\n",
    "    p=1.0,  # p=q=1时，退化为DeepWalk\n",
    "    q=0.1,\n",
    "    sparse=True,  # 该数据集为稀疏数据集\n",
    ").to(device)\n",
    "loader = model.loader(batch_size=128, shuffle=True, num_workers=4)\n",
    "optimizer = torch.optim.SparseAdam(list(model.parameters()), lr=0.01)\n",
    "print(torch.max(train_data.edge_index[0]))\n",
    "print(train_data.edge_index.shape)\n",
    "\n",
    "\n",
    "def train():\n",
    "    model.train()\n",
    "    total_loss = 0\n",
    "    for pos_rw, neg_rw in loader:\n",
    "        optimizer.zero_grad()\n",
    "        loss = model.loss(pos_rw.to(device), neg_rw.to(device))\n",
    "        loss.backward()\n",
    "        optimizer.step()\n",
    "        total_loss += loss.item()\n",
    "    return total_loss / len(loader)\n",
    "\n",
    "\n",
    "@torch.no_grad()\n",
    "def test():\n",
    "    model.eval()\n",
    "    data = test_data\n",
    "    z = model()  # 输出潜在空间的嵌入向量\n",
    "    out = (z[data.edge_label_index[0]] * z[data.edge_label_index[1]]).sum(dim=-1)\n",
    "    out = out.view(-1).sigmoid()  # 重建edge_label与输入的边标签进行对比\n",
    "    AUC = roc_auc_score(data.edge_label.cpu().numpy(), out.cpu().numpy())\n",
    "    AP = average_precision_score(data.edge_label.cpu().numpy(), out.cpu().numpy())\n",
    "    return AUC, AP\n",
    "\n",
    "\n",
    "for epoch in range(1, 11):\n",
    "    loss = train()\n",
    "    AUC, AP = test()\n",
    "    print(f'Epoch: {epoch:03d}, Loss: {loss:.4f},AUC: {AUC:.4f},AP: {AP:.4f}')"
   ],
   "metadata": {
    "collapsed": false
   }
  },
  {
   "cell_type": "code",
   "execution_count": 62,
   "outputs": [
    {
     "data": {
      "text/plain": "torch.Size([27009, 128])"
     },
     "execution_count": 62,
     "metadata": {},
     "output_type": "execute_result"
    }
   ],
   "source": [
    "z5 = model()\n",
    "z5.shape"
   ],
   "metadata": {
    "collapsed": false
   }
  },
  {
   "cell_type": "code",
   "execution_count": 63,
   "outputs": [
    {
     "data": {
      "text/plain": "torch.Size([27045, 128])"
     },
     "execution_count": 63,
     "metadata": {},
     "output_type": "execute_result"
    }
   ],
   "source": [
    "z=z5\n",
    "q = 27045-z.shape[0]\n",
    "zero = torch.zeros((q,128)).to(device)\n",
    "z = torch.cat([z,zero],0)\n",
    "z5=z\n",
    "z5.shape"
   ],
   "metadata": {
    "collapsed": false
   }
  },
  {
   "cell_type": "code",
   "execution_count": 64,
   "outputs": [
    {
     "name": "stdout",
     "output_type": "stream",
     "text": [
      "Data(edge_index=[2, 5714], edge_attr=[5714], t_start=37798, num_nodes=6416)\n",
      "tensor(27011)\n",
      "torch.Size([2, 5664])\n",
      "Epoch: 001, Loss: 4.2314,AUC: 0.7984,AP: 0.7936\n",
      "Epoch: 002, Loss: 2.1549,AUC: 0.8668,AP: 0.8929\n",
      "Epoch: 003, Loss: 1.2366,AUC: 0.8932,AP: 0.9350\n",
      "Epoch: 004, Loss: 0.8898,AUC: 0.8968,AP: 0.9416\n",
      "Epoch: 005, Loss: 0.7768,AUC: 0.8924,AP: 0.9414\n",
      "Epoch: 006, Loss: 0.7444,AUC: 0.8984,AP: 0.9437\n",
      "Epoch: 007, Loss: 0.7358,AUC: 0.8972,AP: 0.9423\n",
      "Epoch: 008, Loss: 0.7340,AUC: 0.9068,AP: 0.9464\n",
      "Epoch: 009, Loss: 0.7336,AUC: 0.8996,AP: 0.9401\n",
      "Epoch: 010, Loss: 0.7335,AUC: 0.9036,AP: 0.9406\n"
     ]
    }
   ],
   "source": [
    "import torch\n",
    "import torch_geometric as pyg\n",
    "from sklearn.metrics import roc_auc_score, average_precision_score\n",
    "from torch_geometric.nn import Node2Vec\n",
    "from torch_geometric.transforms import RandomLinkSplit\n",
    "from einops import rearrange\n",
    "\n",
    "pyg.seed_everything(3407)\n",
    "device = 'cuda:1' if torch.cuda.is_available() else 'cpu'\n",
    "\n",
    "data = torch.load('/home/chenjunfen/workspace/XZH/graphemb/dydata/rc_snapshots/f6.pt')\n",
    "data = data.to(device)\n",
    "data['edge_index'] = torch.tensor(data['edge_index'])\n",
    "data['edge_attr'] = torch.tensor(data['edge_attr'])\n",
    "data['t_start'] = torch.tensor(data['t_start'])\n",
    "data['num_nodes'] = torch.tensor(data['num_nodes'])\n",
    "print(data)\n",
    "transform = RandomLinkSplit(num_val=0.0,\n",
    "                            num_test=50,\n",
    "                            is_undirected=False)\n",
    "train_data, val_data, test_data = transform(data)\n",
    "\n",
    "model = Node2Vec(\n",
    "    edge_index=train_data.edge_index,\n",
    "    embedding_dim=128,\n",
    "    walk_length=20,\n",
    "    context_size=10,\n",
    "    walks_per_node=10,\n",
    "    num_negative_samples=1,\n",
    "    p=1.0,  # p=q=1时，退化为DeepWalk\n",
    "    q=0.1,\n",
    "    sparse=True,  # 该数据集为稀疏数据集\n",
    ").to(device)\n",
    "loader = model.loader(batch_size=128, shuffle=True, num_workers=5)\n",
    "optimizer = torch.optim.SparseAdam(list(model.parameters()), lr=0.01)\n",
    "print(torch.max(train_data.edge_index[0]))\n",
    "print(train_data.edge_index.shape)\n",
    "\n",
    "\n",
    "def train():\n",
    "    model.train()\n",
    "    total_loss = 0\n",
    "    for pos_rw, neg_rw in loader:\n",
    "        optimizer.zero_grad()\n",
    "        loss = model.loss(pos_rw.to(device), neg_rw.to(device))\n",
    "        loss.backward()\n",
    "        optimizer.step()\n",
    "        total_loss += loss.item()\n",
    "    return total_loss / len(loader)\n",
    "\n",
    "\n",
    "@torch.no_grad()\n",
    "def test():\n",
    "    model.eval()\n",
    "    data = test_data\n",
    "    z = model()  # 输出潜在空间的嵌入向量\n",
    "    out = (z[data.edge_label_index[0]] * z[data.edge_label_index[1]]).sum(dim=-1)\n",
    "    out = out.view(-1).sigmoid()  # 重建edge_label与输入的边标签进行对比\n",
    "    AUC = roc_auc_score(data.edge_label.cpu().numpy(), out.cpu().numpy())\n",
    "    AP = average_precision_score(data.edge_label.cpu().numpy(), out.cpu().numpy())\n",
    "    return AUC, AP\n",
    "\n",
    "\n",
    "for epoch in range(1, 11):\n",
    "    loss = train()\n",
    "    AUC, AP = test()\n",
    "    print(f'Epoch: {epoch:03d}, Loss: {loss:.4f},AUC: {AUC:.4f},AP: {AP:.4f}')"
   ],
   "metadata": {
    "collapsed": false
   }
  },
  {
   "cell_type": "code",
   "execution_count": 65,
   "outputs": [
    {
     "data": {
      "text/plain": "torch.Size([27027, 128])"
     },
     "execution_count": 65,
     "metadata": {},
     "output_type": "execute_result"
    }
   ],
   "source": [
    "z6 = model()\n",
    "z6.shape"
   ],
   "metadata": {
    "collapsed": false
   }
  },
  {
   "cell_type": "code",
   "execution_count": 66,
   "outputs": [
    {
     "data": {
      "text/plain": "torch.Size([27045, 128])"
     },
     "execution_count": 66,
     "metadata": {},
     "output_type": "execute_result"
    }
   ],
   "source": [
    "z=z6\n",
    "q = 27045-z.shape[0]\n",
    "zero = torch.zeros((q,128)).to(device)\n",
    "z = torch.cat([z,zero],0)\n",
    "z6=z\n",
    "z6.shape"
   ],
   "metadata": {
    "collapsed": false
   }
  },
  {
   "cell_type": "code",
   "execution_count": 67,
   "outputs": [
    {
     "data": {
      "text/plain": "torch.Size([27045, 768])"
     },
     "execution_count": 67,
     "metadata": {},
     "output_type": "execute_result"
    }
   ],
   "source": [
    "z_1_6 = torch.cat([z1,z2,z3,z4,z5,z6],1)\n",
    "z_1_6.shape"
   ],
   "metadata": {
    "collapsed": false
   }
  },
  {
   "cell_type": "code",
   "execution_count": 1,
   "outputs": [
    {
     "name": "stdout",
     "output_type": "stream",
     "text": [
      "Data(edge_index=[2, 8538], edge_attr=[8538], t_start=43512, num_nodes=6416)\n",
      "tensor(27043)\n",
      "torch.Size([2, 8488])\n",
      "Epoch: 001, Loss: 4.2370,AUC: 0.7878,AP: 0.7363\n",
      "Epoch: 002, Loss: 2.1569,AUC: 0.9020,AP: 0.9060\n",
      "Epoch: 003, Loss: 1.2380,AUC: 0.9288,AP: 0.9553\n",
      "Epoch: 004, Loss: 0.8910,AUC: 0.9376,AP: 0.9638\n",
      "Epoch: 005, Loss: 0.7778,AUC: 0.9352,AP: 0.9643\n",
      "Epoch: 006, Loss: 0.7452,AUC: 0.9364,AP: 0.9659\n",
      "Epoch: 007, Loss: 0.7369,AUC: 0.9356,AP: 0.9650\n",
      "Epoch: 008, Loss: 0.7348,AUC: 0.9324,AP: 0.9632\n",
      "Epoch: 009, Loss: 0.7341,AUC: 0.9448,AP: 0.9677\n",
      "Epoch: 010, Loss: 0.7337,AUC: 0.9636,AP: 0.9779\n"
     ]
    }
   ],
   "source": [
    "import torch\n",
    "import torch_geometric as pyg\n",
    "from sklearn.metrics import roc_auc_score, average_precision_score\n",
    "from torch_geometric.nn import Node2Vec\n",
    "from torch_geometric.transforms import RandomLinkSplit\n",
    "from einops import rearrange\n",
    "\n",
    "pyg.seed_everything(3407)\n",
    "device = 'cuda:1' if torch.cuda.is_available() else 'cpu'\n",
    "\n",
    "data = torch.load('/home/chenjunfen/workspace/XZH/graphemb/dydata/rc_snapshots/f7.pt')\n",
    "data = data.to(device)\n",
    "data['edge_index'] = torch.tensor(data['edge_index'])\n",
    "data['edge_attr'] = torch.tensor(data['edge_attr'])\n",
    "data['t_start'] = torch.tensor(data['t_start'])\n",
    "data['num_nodes'] = torch.tensor(data['num_nodes'])\n",
    "print(data)\n",
    "transform = RandomLinkSplit(num_val=0.0,\n",
    "                            num_test=50,\n",
    "                            is_undirected=False)\n",
    "train_data, val_data, test_data = transform(data)\n",
    "\n",
    "model = Node2Vec(\n",
    "    edge_index=train_data.edge_index,\n",
    "    embedding_dim=128,\n",
    "    walk_length=20,\n",
    "    context_size=10,\n",
    "    walks_per_node=10,\n",
    "    num_negative_samples=1,\n",
    "    p=1.0,  # p=q=1时，退化为DeepWalk\n",
    "    q=0.1,\n",
    "    sparse=True,  # 该数据集为稀疏数据集\n",
    ").to(device)\n",
    "loader = model.loader(batch_size=128, shuffle=True, num_workers=5)\n",
    "optimizer = torch.optim.SparseAdam(list(model.parameters()), lr=0.01)\n",
    "print(torch.max(train_data.edge_index[0]))\n",
    "print(train_data.edge_index.shape)\n",
    "\n",
    "\n",
    "def train():\n",
    "    model.train()\n",
    "    total_loss = 0\n",
    "    for pos_rw, neg_rw in loader:\n",
    "        optimizer.zero_grad()\n",
    "        loss = model.loss(pos_rw.to(device), neg_rw.to(device))\n",
    "        loss.backward()\n",
    "        optimizer.step()\n",
    "        total_loss += loss.item()\n",
    "    return total_loss / len(loader)\n",
    "\n",
    "\n",
    "@torch.no_grad()\n",
    "def test():\n",
    "    model.eval()\n",
    "    data = test_data\n",
    "    z = model()  # 输出潜在空间的嵌入向量\n",
    "    out = (z[data.edge_label_index[0]] * z[data.edge_label_index[1]]).sum(dim=-1)\n",
    "    out = out.view(-1).sigmoid()  # 重建edge_label与输入的边标签进行对比\n",
    "    AUC = roc_auc_score(data.edge_label.cpu().numpy(), out.cpu().numpy())\n",
    "    AP = average_precision_score(data.edge_label.cpu().numpy(), out.cpu().numpy())\n",
    "    return AUC, AP\n",
    "\n",
    "\n",
    "for epoch in range(1, 2):\n",
    "    loss = train()\n",
    "    AUC, AP = test()\n",
    "    print(f'Epoch: {epoch:03d}, Loss: {loss:.4f},AUC: {AUC:.4f},AP: {AP:.4f}')"
   ],
   "metadata": {
    "collapsed": false
   }
  },
  {
   "cell_type": "code",
   "execution_count": 2,
   "outputs": [
    {
     "data": {
      "text/plain": "torch.Size([27045, 128])"
     },
     "execution_count": 2,
     "metadata": {},
     "output_type": "execute_result"
    }
   ],
   "source": [
    "z7 = model()\n",
    "z7.shape"
   ],
   "metadata": {
    "collapsed": false
   }
  },
  {
   "cell_type": "code",
   "execution_count": 22,
   "outputs": [],
   "source": [
    "# torch.save(z_1_6,'/home/chenjunfen/workspace/XZH/graphemb/dydata/rc_snapshots/z_1_6.pt')"
   ],
   "metadata": {
    "collapsed": false
   }
  },
  {
   "cell_type": "code",
   "execution_count": 74,
   "outputs": [
    {
     "name": "stdout",
     "output_type": "stream",
     "text": [
      "torch.Size([2, 8538])\n",
      "AUC: 0.8704,AP: 0.9207\n"
     ]
    }
   ],
   "source": [
    "import torch\n",
    "import torch_geometric as pyg\n",
    "from sklearn.metrics import roc_auc_score, average_precision_score\n",
    "from torch_geometric.nn import Node2Vec\n",
    "from torch_geometric.transforms import RandomLinkSplit\n",
    "z_1_6=torch.load('/home/chenjunfen/workspace/XZH/graphemb/dydata/rc_snapshots/z_1_6.pt')\n",
    "pyg.seed_everything(3407)\n",
    "device = 'cuda:1' if torch.cuda.is_available() else 'cpu'\n",
    "\n",
    "data = torch.load('/home/chenjunfen/workspace/XZH/graphemb/dydata/rc_snapshots/f7.pt')\n",
    "data = data.to(device)\n",
    "data['edge_index'] = torch.tensor(data['edge_index'])\n",
    "data['edge_attr'] = torch.tensor(data['edge_attr'])\n",
    "data['t_start'] = torch.tensor(data['t_start'])\n",
    "data['num_nodes'] = torch.tensor(data['num_nodes'])\n",
    "\n",
    "transform = RandomLinkSplit(num_val=0.0,\n",
    "                            num_test=0.0,\n",
    "                            is_undirected=False)\n",
    "train_data, val_data, test_data = transform(data)\n",
    "\n",
    "print(train_data.edge_index.shape)\n",
    "\n",
    "@torch.no_grad()\n",
    "def test():\n",
    "    data = train_data\n",
    "    z = z_1_6  # 输出潜在空间的嵌入向量\n",
    "    out = (z[data.edge_label_index[0]] * z[data.edge_label_index[1]]).sum(dim=-1)\n",
    "    out = out.view(-1).sigmoid()  # 重建edge_label与输入的边标签进行对比\n",
    "    AUC = roc_auc_score(data.edge_label.cpu().numpy(), out.cpu().numpy())\n",
    "    AP = average_precision_score(data.edge_label.cpu().numpy(), out.cpu().numpy())\n",
    "    return AUC, AP\n",
    "\n",
    "\n",
    "AUC, AP = test()\n",
    "print(f'AUC: {AUC:.4f},AP: {AP:.4f}')"
   ],
   "metadata": {
    "collapsed": false
   }
  },
  {
   "cell_type": "code",
   "execution_count": null,
   "outputs": [],
   "source": [],
   "metadata": {
    "collapsed": false
   }
  }
 ],
 "metadata": {
  "kernelspec": {
   "display_name": "Python 3",
   "language": "python",
   "name": "python3"
  },
  "language_info": {
   "codemirror_mode": {
    "name": "ipython",
    "version": 2
   },
   "file_extension": ".py",
   "mimetype": "text/x-python",
   "name": "python",
   "nbconvert_exporter": "python",
   "pygments_lexer": "ipython2",
   "version": "2.7.6"
  }
 },
 "nbformat": 4,
 "nbformat_minor": 0
}
